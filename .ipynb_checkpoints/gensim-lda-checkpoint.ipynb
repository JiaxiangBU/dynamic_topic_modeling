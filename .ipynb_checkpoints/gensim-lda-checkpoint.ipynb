{
 "cells": [
  {
   "cell_type": "code",
   "execution_count": 1,
   "metadata": {},
   "outputs": [],
   "source": [
    "# default_exp gensim_lda"
   ]
  },
  {
   "cell_type": "code",
   "execution_count": 2,
   "metadata": {},
   "outputs": [],
   "source": [
    "from dynamic_topic_modeling.sklearn_lda import *"
   ]
  },
  {
   "cell_type": "code",
   "execution_count": 3,
   "metadata": {},
   "outputs": [
    {
     "name": "stderr",
     "output_type": "stream",
     "text": [
      "Building prefix dict from the default dictionary ...\n",
      "Loading model from cache C:\\Users\\LIJIAX~1\\AppData\\Local\\Temp\\jieba.cache\n",
      "Loading model cost 1.117 seconds.\n",
      "Prefix dict has been built succesfully.\n"
     ]
    }
   ],
   "source": [
    "affirmative = make_df(\"data/affirmative.csv\")"
   ]
  },
  {
   "cell_type": "code",
   "execution_count": 4,
   "metadata": {},
   "outputs": [
    {
     "data": {
      "text/html": [
       "<div>\n",
       "<style scoped>\n",
       "    .dataframe tbody tr th:only-of-type {\n",
       "        vertical-align: middle;\n",
       "    }\n",
       "\n",
       "    .dataframe tbody tr th {\n",
       "        vertical-align: top;\n",
       "    }\n",
       "\n",
       "    .dataframe thead th {\n",
       "        text-align: right;\n",
       "    }\n",
       "</style>\n",
       "<table border=\"1\" class=\"dataframe\">\n",
       "  <thead>\n",
       "    <tr style=\"text-align: right;\">\n",
       "      <th></th>\n",
       "      <th>Group</th>\n",
       "      <th>Students</th>\n",
       "      <th>Content</th>\n",
       "      <th>text</th>\n",
       "    </tr>\n",
       "  </thead>\n",
       "  <tbody>\n",
       "    <tr>\n",
       "      <th>0</th>\n",
       "      <td>第1组</td>\n",
       "      <td>正三</td>\n",
       "      <td>慕课将分布于世界各地的最优质的教育资源聚集到一起，让任何有学习愿望的人能够低成本的，通常是免...</td>\n",
       "      <td>慕课 将 分布 于 世界各地 的 最 优质 的 教育资源 聚集 到 一起 ， 让 任何 有 ...</td>\n",
       "    </tr>\n",
       "    <tr>\n",
       "      <th>1</th>\n",
       "      <td>第1组</td>\n",
       "      <td>正二</td>\n",
       "      <td>在慕课发展过程中的现阶段，中国最大的慕课平台icourse163的用户人数突破100万,与其...</td>\n",
       "      <td>在 慕课 发展 过程 中 的 现阶段 ， 中国 最大 的 慕课 平台 icourse163 ...</td>\n",
       "    </tr>\n",
       "    <tr>\n",
       "      <th>2</th>\n",
       "      <td>第1组</td>\n",
       "      <td>正一</td>\n",
       "      <td>研究发现,在慕课融入的课堂学习中,学习者情感体验丰富,知识技能以及元认知能力得到提升,思想观...</td>\n",
       "      <td>研究 发现 , 在 慕课 融入 的 课堂 学习 中 , 学习者 情感 体验 丰富 , 知识 ...</td>\n",
       "    </tr>\n",
       "    <tr>\n",
       "      <th>3</th>\n",
       "      <td>第1组</td>\n",
       "      <td>正三</td>\n",
       "      <td>慕课在保证教育质量的同时，降低提供教育的成本，给社会带来的憧憬。任何人任何时候再任何地方，都...</td>\n",
       "      <td>慕课 在 保证 教育 质量 的 同时 ， 降低 提供 教育 的 成本 ， 给 社会 带来 的...</td>\n",
       "    </tr>\n",
       "    <tr>\n",
       "      <th>4</th>\n",
       "      <td>第1组</td>\n",
       "      <td>正一</td>\n",
       "      <td>对方反一辩友也说是可能出现的欢快气氛，传统课堂集体聆听教师单方面赐予的知识，这难道不是一种容...</td>\n",
       "      <td>对方 反一 辩友 也 说 是 可能 出现 的 欢快 气氛 ， 传统 课堂 集体 聆听 教师 ...</td>\n",
       "    </tr>\n",
       "  </tbody>\n",
       "</table>\n",
       "</div>"
      ],
      "text/plain": [
       "  Group Students                                            Content  \\\n",
       "0   第1组       正三  慕课将分布于世界各地的最优质的教育资源聚集到一起，让任何有学习愿望的人能够低成本的，通常是免...   \n",
       "1   第1组       正二  在慕课发展过程中的现阶段，中国最大的慕课平台icourse163的用户人数突破100万,与其...   \n",
       "2   第1组       正一  研究发现,在慕课融入的课堂学习中,学习者情感体验丰富,知识技能以及元认知能力得到提升,思想观...   \n",
       "3   第1组       正三  慕课在保证教育质量的同时，降低提供教育的成本，给社会带来的憧憬。任何人任何时候再任何地方，都...   \n",
       "4   第1组       正一  对方反一辩友也说是可能出现的欢快气氛，传统课堂集体聆听教师单方面赐予的知识，这难道不是一种容...   \n",
       "\n",
       "                                                text  \n",
       "0  慕课 将 分布 于 世界各地 的 最 优质 的 教育资源 聚集 到 一起 ， 让 任何 有 ...  \n",
       "1  在 慕课 发展 过程 中 的 现阶段 ， 中国 最大 的 慕课 平台 icourse163 ...  \n",
       "2  研究 发现 , 在 慕课 融入 的 课堂 学习 中 , 学习者 情感 体验 丰富 , 知识 ...  \n",
       "3  慕课 在 保证 教育 质量 的 同时 ， 降低 提供 教育 的 成本 ， 给 社会 带来 的...  \n",
       "4  对方 反一 辩友 也 说 是 可能 出现 的 欢快 气氛 ， 传统 课堂 集体 聆听 教师 ...  "
      ]
     },
     "execution_count": 4,
     "metadata": {},
     "output_type": "execute_result"
    }
   ],
   "source": [
    "affirmative.head()"
   ]
  },
  {
   "cell_type": "code",
   "execution_count": 6,
   "metadata": {},
   "outputs": [],
   "source": [
    "stopwords = get_custom_stopwords(\"data/stopwords.txt\", encoding='utf-8') # HIT停用词词典\n",
    "max_df = 0.9 # 在超过这一比例的文档中出现的关键词（过于平凡），去除掉。\n",
    "min_df = 5 # 在低于这一数量的文档中出现的关键词（过于独特），去除掉。\n",
    "n_features = 1000 # 最大提取特征数量\n",
    "n_top_words = 20 # 显示主题下关键词的时候，显示多少个\n",
    "col_content = \"text\" # 说明其中的文本信息所在列名称"
   ]
  },
  {
   "cell_type": "code",
   "execution_count": 7,
   "metadata": {},
   "outputs": [],
   "source": [
    "raw_documents = affirmative['text'].tolist()"
   ]
  },
  {
   "cell_type": "code",
   "execution_count": 8,
   "metadata": {},
   "outputs": [],
   "source": [
    "# 参考 https://blog.csdn.net/kwame211/article/details/78963517\n",
    "import jieba\n",
    "docs = [[word for word in jieba.cut(document, cut_all=True)] for document in raw_documents]"
   ]
  },
  {
   "cell_type": "code",
   "execution_count": 9,
   "metadata": {},
   "outputs": [
    {
     "name": "stderr",
     "output_type": "stream",
     "text": [
      "D:\\install\\miniconda\\lib\\site-packages\\scipy\\sparse\\sparsetools.py:21: DeprecationWarning: `scipy.sparse.sparsetools` is deprecated!\n",
      "scipy.sparse.sparsetools is a private module for scipy.sparse, and should not be used.\n",
      "  _deprecated()\n",
      "D:\\install\\miniconda\\lib\\site-packages\\gensim\\models\\doc2vec.py:73: DeprecationWarning: Using or importing the ABCs from 'collections' instead of from 'collections.abc' is deprecated, and in 3.8 it will stop working\n",
      "  from collections import namedtuple, defaultdict, Iterable\n"
     ]
    }
   ],
   "source": [
    "# 参考 https://radimrehurek.com/gensim/auto_examples/tutorials/run_lda.html#sphx-glr-auto-examples-tutorials-run-lda-py\n",
    "from gensim.corpora import Dictionary\n",
    "# Create a dictionary representation of the documents.\n",
    "dictionary = Dictionary(docs)\n",
    "\n",
    "# Filter out words that occur less than 5 documents, or more than 90% of the documents.\n",
    "dictionary.filter_extremes(no_below=5, no_above=0.9)"
   ]
  },
  {
   "cell_type": "markdown",
   "metadata": {},
   "source": [
    "```python\n",
    "TypeError: doc2bow expects an array of unicode tokens on input, not a single string\n",
    "```\n",
    "\n",
    "- [x] list 化 https://blog.csdn.net/cg_amaz1ng/article/details/79567583"
   ]
  },
  {
   "cell_type": "code",
   "execution_count": 10,
   "metadata": {},
   "outputs": [],
   "source": [
    "corpus = [dictionary.doc2bow(doc) for doc in docs]"
   ]
  },
  {
   "cell_type": "code",
   "execution_count": 11,
   "metadata": {},
   "outputs": [
    {
     "name": "stdout",
     "output_type": "stream",
     "text": [
      "Number of unique tokens: 1060\n",
      "Number of documents: 617\n"
     ]
    }
   ],
   "source": [
    "print('Number of unique tokens: %d' % len(dictionary))\n",
    "print('Number of documents: %d' % len(corpus))"
   ]
  },
  {
   "cell_type": "code",
   "execution_count": 12,
   "metadata": {},
   "outputs": [],
   "source": [
    "from gensim.models import LdaModel\n",
    "\n",
    "# Set training parameters.\n",
    "num_topics = 8\n",
    "chunksize = 2000\n",
    "passes = 20\n",
    "iterations = 400\n",
    "eval_every = None  # Don't evaluate model perplexity, takes too much time.\n",
    "\n",
    "# Make a index to word dictionary.\n",
    "temp = dictionary[0]  # This is only to \"load\" the dictionary.\n",
    "id2word = dictionary.id2token\n",
    "\n",
    "model = LdaModel(\n",
    "    corpus=corpus,\n",
    "    id2word=id2word,\n",
    "    chunksize=chunksize,\n",
    "    alpha='auto',\n",
    "    eta='auto',\n",
    "    iterations=iterations,\n",
    "    num_topics=num_topics,\n",
    "    passes=passes,\n",
    "    eval_every=eval_every\n",
    ")"
   ]
  },
  {
   "cell_type": "code",
   "execution_count": 13,
   "metadata": {},
   "outputs": [
    {
     "name": "stdout",
     "output_type": "stream",
     "text": [
      "Average topic coherence: -1.5715.\n",
      "[([(0.045936555, '学习'),\n",
      "   (0.031208888, '学生'),\n",
      "   (0.029099885, '课'),\n",
      "   (0.027711054, '慕'),\n",
      "   (0.019213945, '可以'),\n",
      "   (0.015990602, '了'),\n",
      "   (0.014622693, '课程'),\n",
      "   (0.013580821, '是'),\n",
      "   (0.013257743, '课堂'),\n",
      "   (0.011716728, '在'),\n",
      "   (0.011205085, '传统'),\n",
      "   (0.010843861, '和'),\n",
      "   (0.0103720995, '教学'),\n",
      "   (0.009336841, '有'),\n",
      "   (0.008886407, '教师'),\n",
      "   (0.008839154, '也'),\n",
      "   (0.008669153, '时间'),\n",
      "   (0.008140829, '不'),\n",
      "   (0.0075693075, '上'),\n",
      "   (0.00641935, '对')],\n",
      "  -1.1190896709229012),\n",
      " ([(0.04365886, '学生'),\n",
      "   (0.028807856, '课'),\n",
      "   (0.025896464, '慕'),\n",
      "   (0.022753265, '课堂'),\n",
      "   (0.020281866, '是'),\n",
      "   (0.018622143, '可以'),\n",
      "   (0.017597802, '在'),\n",
      "   (0.017507399, '互动'),\n",
      "   (0.01726766, '传统'),\n",
      "   (0.015887884, '教师'),\n",
      "   (0.01575285, '视频'),\n",
      "   (0.014230284, '过程'),\n",
      "   (0.01345424, '中'),\n",
      "   (0.012589447, '老师'),\n",
      "   (0.011443371, '教学'),\n",
      "   (0.011261093, '更'),\n",
      "   (0.010024107, '有'),\n",
      "   (0.009968417, '学习'),\n",
      "   (0.008570066, '了'),\n",
      "   (0.008235991, '也')],\n",
      "  -1.1406268289464787),\n",
      " ([(0.041168176, '课'),\n",
      "   (0.038479604, '慕'),\n",
      "   (0.028434081, '教育'),\n",
      "   (0.023424882, '发展'),\n",
      "   (0.023083135, '教学'),\n",
      "   (0.017878179, '和'),\n",
      "   (0.015430756, '是'),\n",
      "   (0.01427263, '在'),\n",
      "   (0.012535816, '模式'),\n",
      "   (0.011448465, '学生'),\n",
      "   (0.0106322495, '学习'),\n",
      "   (0.0097915605, '信息'),\n",
      "   (0.009334094, '课程'),\n",
      "   (0.008974526, '与'),\n",
      "   (0.008694211, '技术'),\n",
      "   (0.008661952, '传统'),\n",
      "   (0.00844705, '时代'),\n",
      "   (0.008097915, '我们'),\n",
      "   (0.007396978, '知识'),\n",
      "   (0.006707873, '大学')],\n",
      "  -1.5205310324639612),\n",
      " ([(0.042329118, '课'),\n",
      "   (0.040534813, '慕'),\n",
      "   (0.02618913, '传统'),\n",
      "   (0.025423106, '课堂'),\n",
      "   (0.024865817, '教育'),\n",
      "   (0.017552653, '是'),\n",
      "   (0.016350802, '了'),\n",
      "   (0.013115059, '学生'),\n",
      "   (0.01122631, '在'),\n",
      "   (0.010857746, '教学'),\n",
      "   (0.009673287, '取代'),\n",
      "   (0.009628494, '我们'),\n",
      "   (0.00956718, '发展'),\n",
      "   (0.009007852, '不'),\n",
      "   (0.00854386, '这'),\n",
      "   (0.0084056, '有'),\n",
      "   (0.008190151, '辩'),\n",
      "   (0.0075556887, '并'),\n",
      "   (0.0071221013, '我方'),\n",
      "   (0.0070634685, '友')],\n",
      "  -1.5374061935653567),\n",
      " ([(0.033139337, '是'),\n",
      "   (0.023455435, '课'),\n",
      "   (0.022710066, '慕'),\n",
      "   (0.017635174, '不是'),\n",
      "   (0.01595605, '在'),\n",
      "   (0.014483565, '不'),\n",
      "   (0.013575725, '我们'),\n",
      "   (0.013521834, '都'),\n",
      "   (0.013344324, '课堂'),\n",
      "   (0.013198843, '老师'),\n",
      "   (0.012532463, '学生'),\n",
      "   (0.012179681, '自学'),\n",
      "   (0.012018273, '也'),\n",
      "   (0.011500534, '教学'),\n",
      "   (0.011475632, '什么'),\n",
      "   (0.010965755, '您'),\n",
      "   (0.0108909635, '和'),\n",
      "   (0.010553134, '发展'),\n",
      "   (0.01046086, '如果'),\n",
      "   (0.009452186, '了')],\n",
      "  -1.7067579259512786),\n",
      " ([(0.03234891, '学习'),\n",
      "   (0.0301957, '学生'),\n",
      "   (0.02498013, '慕'),\n",
      "   (0.024742436, '课'),\n",
      "   (0.0197892, '在'),\n",
      "   (0.018427694, '教育'),\n",
      "   (0.016786413, '大学'),\n",
      "   (0.014967592, '可以'),\n",
      "   (0.011123596, '教师'),\n",
      "   (0.010875967, '了'),\n",
      "   (0.010345973, '情况'),\n",
      "   (0.009712883, '根据'),\n",
      "   (0.009105816, '有'),\n",
      "   (0.008929264, '反'),\n",
      "   (0.008755676, '课堂'),\n",
      "   (0.008523766, '与'),\n",
      "   (0.008233732, '课程'),\n",
      "   (0.007963589, '自身'),\n",
      "   (0.0076552206, '自己'),\n",
      "   (0.0075655184, '任何')],\n",
      "  -1.8297297601538782),\n",
      " ([(0.03539592, '是'),\n",
      "   (0.0323152, '欠'),\n",
      "   (0.030349951, '反驳'),\n",
      "   (0.027505005, '学生'),\n",
      "   (0.026632769, '反方'),\n",
      "   (0.026452139, '学习'),\n",
      "   (0.023567382, '可以'),\n",
      "   (0.019868724, '有'),\n",
      "   (0.019855661, '课'),\n",
      "   (0.018933846, '慕'),\n",
      "   (0.01650542, '韩'),\n",
      "   (0.013882062, '课堂'),\n",
      "   (0.012655453, '方式'),\n",
      "   (0.011504636, '讨论'),\n",
      "   (0.011340707, '自己'),\n",
      "   (0.011195794, '这个'),\n",
      "   (0.011156169, '中'),\n",
      "   (0.010764056, '传统'),\n",
      "   (0.010500618, '也'),\n",
      "   (0.010162511, '氛围')],\n",
      "  -1.8572670378768736),\n",
      " ([(0.03709079, '学生'),\n",
      "   (0.028628118, '学习'),\n",
      "   (0.019956885, '反'),\n",
      "   (0.018679574, '教学'),\n",
      "   (0.01632546, '教师'),\n",
      "   (0.016320752, '交流'),\n",
      "   (0.016138276, '驳'),\n",
      "   (0.01527514, '是'),\n",
      "   (0.014922402, '可以'),\n",
      "   (0.0128476415, '在'),\n",
      "   (0.011290235, '主动'),\n",
      "   (0.010199238, '课堂'),\n",
      "   (0.0096501205, '我'),\n",
      "   (0.009077662, '与'),\n",
      "   (0.009076965, '1'),\n",
      "   (0.008919069, '主动性'),\n",
      "   (0.008779615, '课'),\n",
      "   (0.008687917, '不是'),\n",
      "   (0.008524095, '反驳'),\n",
      "   (0.008435496, '以')],\n",
      "  -1.8606663646680894)]\n"
     ]
    }
   ],
   "source": [
    "top_topics = model.top_topics(corpus) #, num_words=20)\n",
    "\n",
    "# Average topic coherence is the sum of topic coherences of all topics, divided by the number of topics.\n",
    "avg_topic_coherence = sum([t[1] for t in top_topics]) / num_topics\n",
    "print('Average topic coherence: %.4f.' % avg_topic_coherence)\n",
    "\n",
    "from pprint import pprint\n",
    "pprint(top_topics)"
   ]
  },
  {
   "cell_type": "code",
   "execution_count": 14,
   "metadata": {},
   "outputs": [],
   "source": [
    "import pickle as pkl"
   ]
  },
  {
   "cell_type": "code",
   "execution_count": 15,
   "metadata": {},
   "outputs": [],
   "source": [
    "with open(\"model/gensim-lda.pkl\", 'wb') as fp:\n",
    "    pkl.dump(model, fp)"
   ]
  },
  {
   "cell_type": "code",
   "execution_count": 16,
   "metadata": {},
   "outputs": [],
   "source": [
    "with open(\"model/gensim-lda.pkl\", 'rb') as fp:\n",
    "    model0 = pkl.load(fp)"
   ]
  },
  {
   "cell_type": "code",
   "execution_count": 17,
   "metadata": {},
   "outputs": [
    {
     "data": {
      "text/plain": [
       "gensim.models.ldamodel.LdaModel"
      ]
     },
     "execution_count": 17,
     "metadata": {},
     "output_type": "execute_result"
    }
   ],
   "source": [
    "model0.__class__"
   ]
  },
  {
   "cell_type": "code",
   "execution_count": null,
   "metadata": {},
   "outputs": [],
   "source": []
  }
 ],
 "metadata": {
  "kernelspec": {
   "display_name": "Python 3",
   "language": "python",
   "name": "python3"
  },
  "language_info": {
   "codemirror_mode": {
    "name": "ipython",
    "version": 3
   },
   "file_extension": ".py",
   "mimetype": "text/x-python",
   "name": "python",
   "nbconvert_exporter": "python",
   "pygments_lexer": "ipython3",
   "version": "3.7.3"
  }
 },
 "nbformat": 4,
 "nbformat_minor": 2
}
