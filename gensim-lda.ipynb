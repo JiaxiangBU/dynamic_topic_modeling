{
 "cells": [
  {
   "cell_type": "code",
   "execution_count": 67,
   "metadata": {},
   "outputs": [],
   "source": [
    "# default_exp gensim_lda"
   ]
  },
  {
   "cell_type": "code",
   "execution_count": 68,
   "metadata": {},
   "outputs": [],
   "source": [
    "from dynamic_topic_modeling.sklearn_lda import *"
   ]
  },
  {
   "cell_type": "code",
   "execution_count": 12,
   "metadata": {},
   "outputs": [],
   "source": [
    "affirmative = make_df(\"affirmative.csv\")"
   ]
  },
  {
   "cell_type": "code",
   "execution_count": 13,
   "metadata": {},
   "outputs": [
    {
     "data": {
      "text/html": [
       "<div>\n",
       "<style scoped>\n",
       "    .dataframe tbody tr th:only-of-type {\n",
       "        vertical-align: middle;\n",
       "    }\n",
       "\n",
       "    .dataframe tbody tr th {\n",
       "        vertical-align: top;\n",
       "    }\n",
       "\n",
       "    .dataframe thead th {\n",
       "        text-align: right;\n",
       "    }\n",
       "</style>\n",
       "<table border=\"1\" class=\"dataframe\">\n",
       "  <thead>\n",
       "    <tr style=\"text-align: right;\">\n",
       "      <th></th>\n",
       "      <th>Group</th>\n",
       "      <th>Students</th>\n",
       "      <th>Content</th>\n",
       "      <th>text</th>\n",
       "    </tr>\n",
       "  </thead>\n",
       "  <tbody>\n",
       "    <tr>\n",
       "      <th>0</th>\n",
       "      <td>第1组</td>\n",
       "      <td>正三</td>\n",
       "      <td>慕课将分布于世界各地的最优质的教育资源聚集到一起，让任何有学习愿望的人能够低成本的，通常是免...</td>\n",
       "      <td>慕课 将 分布 于 世界各地 的 最 优质 的 教育资源 聚集 到 一起 ， 让 任何 有 ...</td>\n",
       "    </tr>\n",
       "    <tr>\n",
       "      <th>1</th>\n",
       "      <td>第1组</td>\n",
       "      <td>正二</td>\n",
       "      <td>在慕课发展过程中的现阶段，中国最大的慕课平台icourse163的用户人数突破100万,与其...</td>\n",
       "      <td>在 慕课 发展 过程 中 的 现阶段 ， 中国 最大 的 慕课 平台 icourse163 ...</td>\n",
       "    </tr>\n",
       "    <tr>\n",
       "      <th>2</th>\n",
       "      <td>第1组</td>\n",
       "      <td>正一</td>\n",
       "      <td>研究发现,在慕课融入的课堂学习中,学习者情感体验丰富,知识技能以及元认知能力得到提升,思想观...</td>\n",
       "      <td>研究 发现 , 在 慕课 融入 的 课堂 学习 中 , 学习者 情感 体验 丰富 , 知识 ...</td>\n",
       "    </tr>\n",
       "    <tr>\n",
       "      <th>3</th>\n",
       "      <td>第1组</td>\n",
       "      <td>正三</td>\n",
       "      <td>慕课在保证教育质量的同时，降低提供教育的成本，给社会带来的憧憬。任何人任何时候再任何地方，都...</td>\n",
       "      <td>慕课 在 保证 教育 质量 的 同时 ， 降低 提供 教育 的 成本 ， 给 社会 带来 的...</td>\n",
       "    </tr>\n",
       "    <tr>\n",
       "      <th>4</th>\n",
       "      <td>第1组</td>\n",
       "      <td>正一</td>\n",
       "      <td>对方反一辩友也说是可能出现的欢快气氛，传统课堂集体聆听教师单方面赐予的知识，这难道不是一种容...</td>\n",
       "      <td>对方 反一 辩友 也 说 是 可能 出现 的 欢快 气氛 ， 传统 课堂 集体 聆听 教师 ...</td>\n",
       "    </tr>\n",
       "  </tbody>\n",
       "</table>\n",
       "</div>"
      ],
      "text/plain": [
       "  Group Students                                            Content  \\\n",
       "0   第1组       正三  慕课将分布于世界各地的最优质的教育资源聚集到一起，让任何有学习愿望的人能够低成本的，通常是免...   \n",
       "1   第1组       正二  在慕课发展过程中的现阶段，中国最大的慕课平台icourse163的用户人数突破100万,与其...   \n",
       "2   第1组       正一  研究发现,在慕课融入的课堂学习中,学习者情感体验丰富,知识技能以及元认知能力得到提升,思想观...   \n",
       "3   第1组       正三  慕课在保证教育质量的同时，降低提供教育的成本，给社会带来的憧憬。任何人任何时候再任何地方，都...   \n",
       "4   第1组       正一  对方反一辩友也说是可能出现的欢快气氛，传统课堂集体聆听教师单方面赐予的知识，这难道不是一种容...   \n",
       "\n",
       "                                                text  \n",
       "0  慕课 将 分布 于 世界各地 的 最 优质 的 教育资源 聚集 到 一起 ， 让 任何 有 ...  \n",
       "1  在 慕课 发展 过程 中 的 现阶段 ， 中国 最大 的 慕课 平台 icourse163 ...  \n",
       "2  研究 发现 , 在 慕课 融入 的 课堂 学习 中 , 学习者 情感 体验 丰富 , 知识 ...  \n",
       "3  慕课 在 保证 教育 质量 的 同时 ， 降低 提供 教育 的 成本 ， 给 社会 带来 的...  \n",
       "4  对方 反一 辩友 也 说 是 可能 出现 的 欢快 气氛 ， 传统 课堂 集体 聆听 教师 ...  "
      ]
     },
     "execution_count": 13,
     "metadata": {},
     "output_type": "execute_result"
    }
   ],
   "source": [
    "affirmative.head()"
   ]
  },
  {
   "cell_type": "code",
   "execution_count": 14,
   "metadata": {},
   "outputs": [],
   "source": [
    "stopwords = get_custom_stopwords(\"stopwords.txt\", encoding='utf-8') # HIT停用词词典\n",
    "max_df = 0.9 # 在超过这一比例的文档中出现的关键词（过于平凡），去除掉。\n",
    "min_df = 5 # 在低于这一数量的文档中出现的关键词（过于独特），去除掉。\n",
    "n_features = 1000 # 最大提取特征数量\n",
    "n_top_words = 20 # 显示主题下关键词的时候，显示多少个\n",
    "col_content = \"text\" # 说明其中的文本信息所在列名称"
   ]
  },
  {
   "cell_type": "code",
   "execution_count": 54,
   "metadata": {},
   "outputs": [],
   "source": [
    "raw_documents = affirmative['text'].tolist()"
   ]
  },
  {
   "cell_type": "code",
   "execution_count": 61,
   "metadata": {},
   "outputs": [],
   "source": [
    "# 参考 https://blog.csdn.net/kwame211/article/details/78963517\n",
    "import jieba\n",
    "docs = [[word for word in jieba.cut(document, cut_all=True)] for document in raw_documents]"
   ]
  },
  {
   "cell_type": "code",
   "execution_count": 62,
   "metadata": {},
   "outputs": [],
   "source": [
    "# 参考 https://radimrehurek.com/gensim/auto_examples/tutorials/run_lda.html#sphx-glr-auto-examples-tutorials-run-lda-py\n",
    "from gensim.corpora import Dictionary\n",
    "# Create a dictionary representation of the documents.\n",
    "dictionary = Dictionary(docs)\n",
    "\n",
    "# Filter out words that occur less than 5 documents, or more than 90% of the documents.\n",
    "dictionary.filter_extremes(no_below=5, no_above=0.9)"
   ]
  },
  {
   "cell_type": "markdown",
   "metadata": {},
   "source": [
    "```python\n",
    "TypeError: doc2bow expects an array of unicode tokens on input, not a single string\n",
    "```\n",
    "\n",
    "- [x] list 化 https://blog.csdn.net/cg_amaz1ng/article/details/79567583"
   ]
  },
  {
   "cell_type": "code",
   "execution_count": 63,
   "metadata": {},
   "outputs": [],
   "source": [
    "corpus = [dictionary.doc2bow(doc) for doc in docs]"
   ]
  },
  {
   "cell_type": "code",
   "execution_count": 64,
   "metadata": {},
   "outputs": [
    {
     "name": "stdout",
     "output_type": "stream",
     "text": [
      "Number of unique tokens: 1060\n",
      "Number of documents: 617\n"
     ]
    }
   ],
   "source": [
    "print('Number of unique tokens: %d' % len(dictionary))\n",
    "print('Number of documents: %d' % len(corpus))"
   ]
  },
  {
   "cell_type": "code",
   "execution_count": 65,
   "metadata": {},
   "outputs": [],
   "source": [
    "from gensim.models import LdaModel\n",
    "\n",
    "# Set training parameters.\n",
    "num_topics = 8\n",
    "chunksize = 2000\n",
    "passes = 20\n",
    "iterations = 400\n",
    "eval_every = None  # Don't evaluate model perplexity, takes too much time.\n",
    "\n",
    "# Make a index to word dictionary.\n",
    "temp = dictionary[0]  # This is only to \"load\" the dictionary.\n",
    "id2word = dictionary.id2token\n",
    "\n",
    "model = LdaModel(\n",
    "    corpus=corpus,\n",
    "    id2word=id2word,\n",
    "    chunksize=chunksize,\n",
    "    alpha='auto',\n",
    "    eta='auto',\n",
    "    iterations=iterations,\n",
    "    num_topics=num_topics,\n",
    "    passes=passes,\n",
    "    eval_every=eval_every\n",
    ")"
   ]
  },
  {
   "cell_type": "code",
   "execution_count": 66,
   "metadata": {},
   "outputs": [
    {
     "name": "stdout",
     "output_type": "stream",
     "text": [
      "Average topic coherence: -1.3974.\n",
      "[([(0.05549783, '学生'),\n",
      "   (0.025053011, '学习'),\n",
      "   (0.019431483, '可以'),\n",
      "   (0.019155778, '教学'),\n",
      "   (0.01799905, '是'),\n",
      "   (0.016881756, '视频'),\n",
      "   (0.016856788, '教师'),\n",
      "   (0.016813617, '在'),\n",
      "   (0.015622923, '课'),\n",
      "   (0.014619939, '慕'),\n",
      "   (0.011750538, '课堂'),\n",
      "   (0.011127644, '和'),\n",
      "   (0.011125633, '进行'),\n",
      "   (0.0106243985, '了'),\n",
      "   (0.010584355, '老师'),\n",
      "   (0.010449255, '过程'),\n",
      "   (0.009150563, '中'),\n",
      "   (0.009006159, '知识'),\n",
      "   (0.008953948, '上'),\n",
      "   (0.008841038, '也')],\n",
      "  -1.144416048284077),\n",
      " ([(0.0453565, '课'),\n",
      "   (0.044192884, '慕'),\n",
      "   (0.035201326, '学习'),\n",
      "   (0.019053701, '教学'),\n",
      "   (0.015633227, '和'),\n",
      "   (0.013481987, '可以'),\n",
      "   (0.012789655, '课程'),\n",
      "   (0.012127374, '是'),\n",
      "   (0.012039293, '在'),\n",
      "   (0.00975174, '传统'),\n",
      "   (0.0095419055, '课堂'),\n",
      "   (0.009485807, '学生'),\n",
      "   (0.009090529, '中'),\n",
      "   (0.008726664, '有'),\n",
      "   (0.008528268, '了'),\n",
      "   (0.0075090057, '模式'),\n",
      "   (0.0069556953, '学习者'),\n",
      "   (0.0067211697, '进行'),\n",
      "   (0.006115625, '更'),\n",
      "   (0.005775242, '对')],\n",
      "  -1.2220966015558121),\n",
      " ([(0.041899674, '课堂'),\n",
      "   (0.033579342, '传统'),\n",
      "   (0.02813765, '是'),\n",
      "   (0.027938742, '课'),\n",
      "   (0.025089934, '慕'),\n",
      "   (0.014136225, '学生'),\n",
      "   (0.013564931, '反'),\n",
      "   (0.012571133, '有'),\n",
      "   (0.011557401, '这'),\n",
      "   (0.011556876, '不'),\n",
      "   (0.011547528, '在'),\n",
      "   (0.010347254, '教师'),\n",
      "   (0.010276438, '反驳'),\n",
      "   (0.010202565, '了'),\n",
      "   (0.010062143, '就'),\n",
      "   (0.008697136, '都'),\n",
      "   (0.008444866, '你'),\n",
      "   (0.008355109, '可以'),\n",
      "   (0.0081521785, '学习'),\n",
      "   (0.007972976, '没有')],\n",
      "  -1.2288077612700616),\n",
      " ([(0.04422381, '教育'),\n",
      "   (0.038609933, '课'),\n",
      "   (0.037302516, '慕'),\n",
      "   (0.025726518, '学生'),\n",
      "   (0.024392264, '学习'),\n",
      "   (0.019021926, '了'),\n",
      "   (0.014011176, '课程'),\n",
      "   (0.01279446, '传统'),\n",
      "   (0.012310234, '资源'),\n",
      "   (0.011423048, '教学'),\n",
      "   (0.011377016, '和'),\n",
      "   (0.01118965, '可以'),\n",
      "   (0.011044064, '有'),\n",
      "   (0.010688187, '在'),\n",
      "   (0.010656032, '高等教育'),\n",
      "   (0.010655404, '高等'),\n",
      "   (0.009980699, '课堂'),\n",
      "   (0.009743302, '发展'),\n",
      "   (0.008937167, '模式'),\n",
      "   (0.008546021, '教师')],\n",
      "  -1.2822783514031864),\n",
      " ([(0.058199946, '学习'),\n",
      "   (0.04123552, '欠'),\n",
      "   (0.03866683, '反驳'),\n",
      "   (0.038035825, '反方'),\n",
      "   (0.027607298, '是'),\n",
      "   (0.027370943, '学生'),\n",
      "   (0.02734103, '自己'),\n",
      "   (0.023936447, '可以'),\n",
      "   (0.021222211, '韩'),\n",
      "   (0.016528001, '课堂'),\n",
      "   (0.015334558, '方式'),\n",
      "   (0.014796321, '也'),\n",
      "   (0.014615447, '慕'),\n",
      "   (0.01357448, '有'),\n",
      "   (0.013518871, '课'),\n",
      "   (0.013396361, '喜欢'),\n",
      "   (0.013182438, '兴趣'),\n",
      "   (0.012991425, '传统'),\n",
      "   (0.012661393, '了'),\n",
      "   (0.012384218, '会')],\n",
      "  -1.2854786728954977),\n",
      " ([(0.06941117, '学生'),\n",
      "   (0.029332532, '更'),\n",
      "   (0.026023647, '课'),\n",
      "   (0.022436861, '学习'),\n",
      "   (0.022064632, '大学'),\n",
      "   (0.02058897, '能'),\n",
      "   (0.018268974, '慕'),\n",
      "   (0.015789812, '在'),\n",
      "   (0.014469942, '大学生'),\n",
      "   (0.013917901, '知识'),\n",
      "   (0.0128856115, '课堂'),\n",
      "   (0.012144856, '是'),\n",
      "   (0.011610583, '利于'),\n",
      "   (0.01144047, '自主'),\n",
      "   (0.011315977, '有'),\n",
      "   (0.011179853, '可以'),\n",
      "   (0.0110285375, '了'),\n",
      "   (0.010631768, '多'),\n",
      "   (0.010098234, '根据'),\n",
      "   (0.010027188, '方面')],\n",
      "  -1.5096987660847323),\n",
      " ([(0.028161287, '课'),\n",
      "   (0.027364988, '大学'),\n",
      "   (0.026721055, '是'),\n",
      "   (0.0251025, '慕'),\n",
      "   (0.023980664, '老师'),\n",
      "   (0.019288775, '可以'),\n",
      "   (0.018235624, '在'),\n",
      "   (0.015874172, '课堂'),\n",
      "   (0.015749747, '交流'),\n",
      "   (0.014857775, '学习'),\n",
      "   (0.01355989, '你'),\n",
      "   (0.0129232695, '所'),\n",
      "   (0.012562059, '传统'),\n",
      "   (0.011099635, '也'),\n",
      "   (0.010166453, '就'),\n",
      "   (0.009843749, '不是'),\n",
      "   (0.009314486, '反'),\n",
      "   (0.009247946, '上'),\n",
      "   (0.008920768, '年'),\n",
      "   (0.008643832, '都')],\n",
      "  -1.6249802520992749),\n",
      " ([(0.033422593, '课'),\n",
      "   (0.032912433, '慕'),\n",
      "   (0.028060352, '发展'),\n",
      "   (0.024991356, '是'),\n",
      "   (0.020168511, '教育'),\n",
      "   (0.016762, '我们'),\n",
      "   (0.016093792, '在'),\n",
      "   (0.013960348, '了'),\n",
      "   (0.011166846, '辩'),\n",
      "   (0.010547172, '友'),\n",
      "   (0.0098784845, '也'),\n",
      "   (0.009787722, '反方'),\n",
      "   (0.009068898, '传统'),\n",
      "   (0.008046436, '不是'),\n",
      "   (0.00803132, '反'),\n",
      "   (0.007907276, '不'),\n",
      "   (0.007766684, '对方'),\n",
      "   (0.007499742, '我方'),\n",
      "   (0.007163665, '我国'),\n",
      "   (0.0071350727, '技术')],\n",
      "  -1.8816230853757725)]\n"
     ]
    }
   ],
   "source": [
    "top_topics = model.top_topics(corpus) #, num_words=20)\n",
    "\n",
    "# Average topic coherence is the sum of topic coherences of all topics, divided by the number of topics.\n",
    "avg_topic_coherence = sum([t[1] for t in top_topics]) / num_topics\n",
    "print('Average topic coherence: %.4f.' % avg_topic_coherence)\n",
    "\n",
    "from pprint import pprint\n",
    "pprint(top_topics)"
   ]
  },
  {
   "cell_type": "code",
   "execution_count": 70,
   "metadata": {},
   "outputs": [],
   "source": [
    "import pickle as pkl"
   ]
  },
  {
   "cell_type": "code",
   "execution_count": 73,
   "metadata": {},
   "outputs": [],
   "source": [
    "with open(\"model/gensim-lda.pkl\", 'wb') as fp:\n",
    "    pkl.dump(model, fp)"
   ]
  },
  {
   "cell_type": "code",
   "execution_count": 74,
   "metadata": {},
   "outputs": [],
   "source": [
    "with open(\"model/gensim-lda.pkl\", 'rb') as fp:\n",
    "    model0 = pkl.load(fp)"
   ]
  },
  {
   "cell_type": "code",
   "execution_count": 75,
   "metadata": {},
   "outputs": [
    {
     "data": {
      "text/plain": [
       "gensim.models.ldamodel.LdaModel"
      ]
     },
     "execution_count": 75,
     "metadata": {},
     "output_type": "execute_result"
    }
   ],
   "source": [
    "model0.__class__"
   ]
  }
 ],
 "metadata": {
  "kernelspec": {
   "display_name": "Python 3",
   "language": "python",
   "name": "python3"
  },
  "language_info": {
   "codemirror_mode": {
    "name": "ipython",
    "version": 3
   },
   "file_extension": ".py",
   "mimetype": "text/x-python",
   "name": "python",
   "nbconvert_exporter": "python",
   "pygments_lexer": "ipython3",
   "version": "3.7.3"
  }
 },
 "nbformat": 4,
 "nbformat_minor": 2
}
